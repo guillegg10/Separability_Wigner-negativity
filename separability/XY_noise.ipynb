{
 "cells": [
  {
   "cell_type": "code",
   "execution_count": 3,
   "id": "7132af43-feb2-40b1-9294-43de4e899f54",
   "metadata": {},
   "outputs": [],
   "source": [
    "import numpy as np\n",
    "import qutip"
   ]
  },
  {
   "cell_type": "code",
   "execution_count": 8,
   "id": "eca3b0af-0f6a-40b8-b085-f3b98c05bcaa",
   "metadata": {},
   "outputs": [],
   "source": [
    "X_1 = qutip.tensor(qutip.sigmax(), qutip.qeye(2))\n",
    "X_2 = qutip.tensor(qutip.qeye(2), qutip.sigmax())\n",
    "Y_1 = qutip.tensor(qutip.sigmay(), qutip.qeye(2))\n",
    "Y_2 = qutip.tensor(qutip.qeye(2), qutip.sigmay())\n",
    "Z_1 = qutip.tensor(qutip.sigmaz(), qutip.qeye(2))\n",
    "Z_2 = qutip.tensor(qutip.qeye(2), qutip.sigmaz())"
   ]
  },
  {
   "cell_type": "code",
   "execution_count": 9,
   "id": "dc0fc6c7-645a-4a55-bdcb-bbd56506e2d2",
   "metadata": {},
   "outputs": [],
   "source": [
    "# Setup Hamiltonian.\n",
    "O_1 = (X_1 + Y_1) / np.sqrt(2)\n",
    "O_2 = (X_2 + Z_2) / np.sqrt(2)\n",
    "H = O_1 * O_2"
   ]
  },
  {
   "cell_type": "code",
   "execution_count": null,
   "id": "153f0c5d-9ae0-49c6-8b3d-d5bc80a5058f",
   "metadata": {},
   "outputs": [],
   "source": [
    "kappa = 1.0\n"
   ]
  }
 ],
 "metadata": {
  "kernelspec": {
   "display_name": "Python 3 (ipykernel)",
   "language": "python",
   "name": "python3"
  },
  "language_info": {
   "codemirror_mode": {
    "name": "ipython",
    "version": 3
   },
   "file_extension": ".py",
   "mimetype": "text/x-python",
   "name": "python",
   "nbconvert_exporter": "python",
   "pygments_lexer": "ipython3",
   "version": "3.11.5"
  }
 },
 "nbformat": 4,
 "nbformat_minor": 5
}
